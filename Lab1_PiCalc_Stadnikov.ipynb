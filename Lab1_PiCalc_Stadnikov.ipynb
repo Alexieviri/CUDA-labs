{
 "cells": [
  {
   "cell_type": "code",
   "execution_count": 2,
   "metadata": {
    "colab": {
     "base_uri": "https://localhost:8080/"
    },
    "id": "X8FUsgdtV-uK",
    "outputId": "12f5e7e7-a7db-47ff-9118-7c2a6318f19a"
   },
   "outputs": [
    {
     "name": "stdout",
     "output_type": "stream",
     "text": [
      "Collecting pycuda\n",
      "\u001b[?25l  Downloading https://files.pythonhosted.org/packages/46/61/47d3235a4c13eec5a5f03594ddb268f4858734e02980afbcd806e6242fa5/pycuda-2020.1.tar.gz (1.6MB)\n",
      "\u001b[K     |████████████████████████████████| 1.6MB 13.2MB/s \n",
      "\u001b[?25hCollecting pytools>=2011.2\n",
      "\u001b[?25l  Downloading https://files.pythonhosted.org/packages/b7/30/c9362a282ef89106768cba9d884f4b2e4f5dc6881d0c19b478d2a710b82b/pytools-2020.4.3.tar.gz (62kB)\n",
      "\u001b[K     |████████████████████████████████| 71kB 11.2MB/s \n",
      "\u001b[?25hRequirement already satisfied: decorator>=3.2.0 in /usr/local/lib/python3.6/dist-packages (from pycuda) (4.4.2)\n",
      "Collecting appdirs>=1.4.0\n",
      "  Downloading https://files.pythonhosted.org/packages/3b/00/2344469e2084fb287c2e0b57b72910309874c3245463acd6cf5e3db69324/appdirs-1.4.4-py2.py3-none-any.whl\n",
      "Collecting mako\n",
      "\u001b[?25l  Downloading https://files.pythonhosted.org/packages/a6/37/0e706200d22172eb8fa17d68a7ae22dec7631a0a92266634fb518a88a5b2/Mako-1.1.3-py2.py3-none-any.whl (75kB)\n",
      "\u001b[K     |████████████████████████████████| 81kB 13.1MB/s \n",
      "\u001b[?25hRequirement already satisfied: six>=1.8.0 in /usr/local/lib/python3.6/dist-packages (from pytools>=2011.2->pycuda) (1.15.0)\n",
      "Requirement already satisfied: numpy>=1.6.0 in /usr/local/lib/python3.6/dist-packages (from pytools>=2011.2->pycuda) (1.18.5)\n",
      "Requirement already satisfied: dataclasses>=0.7 in /usr/local/lib/python3.6/dist-packages (from pytools>=2011.2->pycuda) (0.8)\n",
      "Requirement already satisfied: MarkupSafe>=0.9.2 in /usr/local/lib/python3.6/dist-packages (from mako->pycuda) (1.1.1)\n",
      "Building wheels for collected packages: pycuda, pytools\n",
      "  Building wheel for pycuda (setup.py) ... \u001b[?25l\u001b[?25hdone\n",
      "  Created wheel for pycuda: filename=pycuda-2020.1-cp36-cp36m-linux_x86_64.whl size=621013 sha256=d88664266ef1af1adbbd1510edf93c06260c0b4e737151601316b4ac37f4dd9c\n",
      "  Stored in directory: /root/.cache/pip/wheels/8f/78/d1/5bb826f81d9d490297a348d818ff3ee6dd6f2075b06dde6ea0\n",
      "  Building wheel for pytools (setup.py) ... \u001b[?25l\u001b[?25hdone\n",
      "  Created wheel for pytools: filename=pytools-2020.4.3-py2.py3-none-any.whl size=61374 sha256=2d30d38a4842b8872740b263a395d99af60761a47e13f3fd27f44fb53f934816\n",
      "  Stored in directory: /root/.cache/pip/wheels/af/c7/81/a22edb90b0b09a880468b2253bb1df8e9f503337ee15432c64\n",
      "Successfully built pycuda pytools\n",
      "Installing collected packages: appdirs, pytools, mako, pycuda\n",
      "Successfully installed appdirs-1.4.4 mako-1.1.3 pycuda-2020.1 pytools-2020.4.3\n"
     ]
    }
   ],
   "source": [
    "# установка pycuda в GoogleColab\n",
    "!pip install pycuda"
   ]
  },
  {
   "cell_type": "code",
   "execution_count": 27,
   "metadata": {
    "id": "UtN2F0cx2HU3"
   },
   "outputs": [],
   "source": [
    "# импорт библиотек, необходимых для работы\n",
    "\n",
    "import numpy as np\n",
    "import time\n",
    "\n",
    "import pycuda.gpuarray as gpuarray\n",
    "import pycuda.autoinit\n",
    "from pycuda.tools import make_default_context\n",
    "from  pycuda import  driver\n",
    "from pycuda.compiler import SourceModule"
   ]
  },
  {
   "cell_type": "code",
   "execution_count": 28,
   "metadata": {
    "colab": {
     "base_uri": "https://localhost:8080/",
     "height": 36
    },
    "id": "OXkmzJ2Y19_1",
    "outputId": "d9b85af2-7a07-4580-ff60-f136da8bf3df"
   },
   "outputs": [
    {
     "data": {
      "application/vnd.google.colaboratory.intrinsic+json": {
       "type": "string"
      },
      "text/plain": [
       "'Tesla T4'"
      ]
     },
     "execution_count": 28,
     "metadata": {
      "tags": []
     },
     "output_type": "execute_result"
    }
   ],
   "source": [
    "make_default_context().get_device().name()"
   ]
  },
  {
   "cell_type": "code",
   "execution_count": 29,
   "metadata": {
    "id": "y08vJK-Z2O4d"
   },
   "outputs": [],
   "source": [
    "# перенос GPU алгоритма с плюсов в питон с помощью 'SourceModule'\n",
    "\n",
    "calc_gpu = SourceModule(\"\"\"\n",
    "                __global__ void Calc(double *x, double *y, double *count) {\n",
    "        int idx = blockIdx.x * blockDim.x + threadIdx.x; \n",
    "        int threadCount = gridDim.x * blockDim.x;\n",
    "        int N = 65536*16;\n",
    "        int count_gpu = 0;\n",
    "        for (int i = idx; i < N; i += threadCount) {\n",
    "                if (x[i] * x[i] + y[i] * y[i] < 1) {\n",
    "                        count_gpu++;\n",
    "                }\n",
    "        }\n",
    "        atomicAdd(count , count_gpu);\n",
    "}\n",
    "\"\"\")"
   ]
  },
  {
   "cell_type": "code",
   "execution_count": 33,
   "metadata": {
    "id": "m1uc8C31tbS7"
   },
   "outputs": [],
   "source": [
    "# CPU алгоритм\n",
    "\n",
    "def calc_cpu(N):\n",
    "    count_cpu = 0\n",
    "    for i in range(N):\n",
    "        if x[i] ** 2 + y[i] ** 2 < 1:\n",
    "            count_cpu += 1\n",
    "    return count_cpu*4/N"
   ]
  },
  {
   "cell_type": "code",
   "execution_count": 34,
   "metadata": {
    "id": "_Ok6_EFjtwCV"
   },
   "outputs": [],
   "source": [
    "N = 65536*16\n",
    "x, y = np.random.random(N), np.random.random(N)\n",
    "block_size = (256, 1, 1)\n",
    "grid_size = (int(N / (128 * block_size[0])), 1)\n",
    "count = np.zeros(1)\n",
    "calc = calc_gpu.get_function(\"Calc\")"
   ]
  },
  {
   "cell_type": "code",
   "execution_count": 35,
   "metadata": {
    "id": "FAUv4wtduCS5"
   },
   "outputs": [],
   "source": [
    "start_cpu = time.time()\n",
    "pi_cpu = calc_cpu(N)\n",
    "end_cpu = time.time()"
   ]
  },
  {
   "cell_type": "code",
   "execution_count": 36,
   "metadata": {
    "id": "_T8Auf0auEld"
   },
   "outputs": [],
   "source": [
    "start = time.time()\n",
    "calc(driver.In(x), driver.In(y),driver.Out(count), block = block_size, grid = grid_size)\n",
    "driver.Context.synchronize()\n",
    "end = time.time()"
   ]
  },
  {
   "cell_type": "code",
   "execution_count": 38,
   "metadata": {
    "colab": {
     "base_uri": "https://localhost:8080/"
    },
    "id": "vQhu4YTHuGvw",
    "outputId": "800eeb1d-7596-48dd-b27e-30e113545fe3"
   },
   "outputs": [
    {
     "name": "stdout",
     "output_type": "stream",
     "text": [
      "Время на GPU 0.012803792953491211 \n",
      "Время на  CPU 1.2068207263946533\n",
      "Число pi на GPU для сравнения  3.1400413513183594 \n",
      "Число pi на CPU для сравнения  3.1400413513183594\n",
      "Множитель ускорения 94.25493920265163\n",
      "Сравнение с числом pi: \n",
      "GPU: 0.001551302271433741\n",
      "CPU: 0.001551302271433741\n"
     ]
    }
   ],
   "source": [
    "print('Время на GPU {}'.format(end - start), '\\nВремя на  CPU {}'.format(end_cpu - start_cpu))\n",
    "print('Число pi на GPU для сравнения ', float(count*4/N), '\\nЧисло pi на CPU для сравнения ', pi_cpu)\n",
    "print('Множитель ускорения {}'.format((end_cpu - start_cpu)/ (end - start)))\n",
    "print('Сравнение с числом pi: ')\n",
    "print('GPU:', abs(np.pi -  float(count*4/N)) )\n",
    "print('CPU:', abs(np.pi -  pi_cpu) )"
   ]
  },
  {
   "cell_type": "code",
   "execution_count": null,
   "metadata": {
    "id": "OZ-RZXWj1Z_X"
   },
   "outputs": [],
   "source": []
  }
 ],
 "metadata": {
  "accelerator": "GPU",
  "colab": {
   "name": "PiCalc_Stadnikov.ipynb",
   "provenance": []
  },
  "kernelspec": {
   "display_name": "Python 3",
   "language": "python",
   "name": "python3"
  },
  "language_info": {
   "codemirror_mode": {
    "name": "ipython",
    "version": 3
   },
   "file_extension": ".py",
   "mimetype": "text/x-python",
   "name": "python",
   "nbconvert_exporter": "python",
   "pygments_lexer": "ipython3",
   "version": "3.8.5"
  }
 },
 "nbformat": 4,
 "nbformat_minor": 1
}
